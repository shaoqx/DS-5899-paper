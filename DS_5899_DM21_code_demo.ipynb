{
  "nbformat": 4,
  "nbformat_minor": 0,
  "metadata": {
    "colab": {
      "provenance": [],
      "collapsed_sections": []
    },
    "kernelspec": {
      "name": "python3",
      "display_name": "Python 3"
    },
    "language_info": {
      "name": "python"
    },
    "widgets": {
      "application/vnd.jupyter.widget-state+json": {
        "7eccc170e2b74e2b862aad913b23f8e8": {
          "model_module": "@jupyter-widgets/controls",
          "model_name": "HBoxModel",
          "model_module_version": "1.5.0",
          "state": {
            "_dom_classes": [],
            "_model_module": "@jupyter-widgets/controls",
            "_model_module_version": "1.5.0",
            "_model_name": "HBoxModel",
            "_view_count": null,
            "_view_module": "@jupyter-widgets/controls",
            "_view_module_version": "1.5.0",
            "_view_name": "HBoxView",
            "box_style": "",
            "children": [
              "IPY_MODEL_a0b3d68c43a441a6b5a66e29e72f9b8e",
              "IPY_MODEL_6ade94ec3c2e44c0a953bbc30e243dbe",
              "IPY_MODEL_bbb2fb4da0b34805acced9811e2f037e"
            ],
            "layout": "IPY_MODEL_236c7ca76c044acf951c74bd2e66a2be"
          }
        },
        "a0b3d68c43a441a6b5a66e29e72f9b8e": {
          "model_module": "@jupyter-widgets/controls",
          "model_name": "HTMLModel",
          "model_module_version": "1.5.0",
          "state": {
            "_dom_classes": [],
            "_model_module": "@jupyter-widgets/controls",
            "_model_module_version": "1.5.0",
            "_model_name": "HTMLModel",
            "_view_count": null,
            "_view_module": "@jupyter-widgets/controls",
            "_view_module_version": "1.5.0",
            "_view_name": "HTMLView",
            "description": "",
            "description_tooltip": null,
            "layout": "IPY_MODEL_e435cdef9fcb4e5da921e7d8cf9f2b1e",
            "placeholder": "​",
            "style": "IPY_MODEL_fda6c29a0c6c4072a9b248261490d99c",
            "value": "100%"
          }
        },
        "6ade94ec3c2e44c0a953bbc30e243dbe": {
          "model_module": "@jupyter-widgets/controls",
          "model_name": "FloatProgressModel",
          "model_module_version": "1.5.0",
          "state": {
            "_dom_classes": [],
            "_model_module": "@jupyter-widgets/controls",
            "_model_module_version": "1.5.0",
            "_model_name": "FloatProgressModel",
            "_view_count": null,
            "_view_module": "@jupyter-widgets/controls",
            "_view_module_version": "1.5.0",
            "_view_name": "ProgressView",
            "bar_style": "success",
            "description": "",
            "description_tooltip": null,
            "layout": "IPY_MODEL_bc5582e0fb4b4177afa04859eaaec824",
            "max": 100,
            "min": 0,
            "orientation": "horizontal",
            "style": "IPY_MODEL_23376c90bf694f22a1776fb5c6a0752f",
            "value": 100
          }
        },
        "bbb2fb4da0b34805acced9811e2f037e": {
          "model_module": "@jupyter-widgets/controls",
          "model_name": "HTMLModel",
          "model_module_version": "1.5.0",
          "state": {
            "_dom_classes": [],
            "_model_module": "@jupyter-widgets/controls",
            "_model_module_version": "1.5.0",
            "_model_name": "HTMLModel",
            "_view_count": null,
            "_view_module": "@jupyter-widgets/controls",
            "_view_module_version": "1.5.0",
            "_view_name": "HTMLView",
            "description": "",
            "description_tooltip": null,
            "layout": "IPY_MODEL_7d33f1ac6a814e56926f87fb92182c11",
            "placeholder": "​",
            "style": "IPY_MODEL_d2973399d17c48e78ad2cb50fe1fc6dc",
            "value": " 100/100 [elapsed: 01:36 remaining: 00:00]"
          }
        },
        "236c7ca76c044acf951c74bd2e66a2be": {
          "model_module": "@jupyter-widgets/base",
          "model_name": "LayoutModel",
          "model_module_version": "1.2.0",
          "state": {
            "_model_module": "@jupyter-widgets/base",
            "_model_module_version": "1.2.0",
            "_model_name": "LayoutModel",
            "_view_count": null,
            "_view_module": "@jupyter-widgets/base",
            "_view_module_version": "1.2.0",
            "_view_name": "LayoutView",
            "align_content": null,
            "align_items": null,
            "align_self": null,
            "border": null,
            "bottom": null,
            "display": null,
            "flex": null,
            "flex_flow": null,
            "grid_area": null,
            "grid_auto_columns": null,
            "grid_auto_flow": null,
            "grid_auto_rows": null,
            "grid_column": null,
            "grid_gap": null,
            "grid_row": null,
            "grid_template_areas": null,
            "grid_template_columns": null,
            "grid_template_rows": null,
            "height": null,
            "justify_content": null,
            "justify_items": null,
            "left": null,
            "margin": null,
            "max_height": null,
            "max_width": null,
            "min_height": null,
            "min_width": null,
            "object_fit": null,
            "object_position": null,
            "order": null,
            "overflow": null,
            "overflow_x": null,
            "overflow_y": null,
            "padding": null,
            "right": null,
            "top": null,
            "visibility": null,
            "width": null
          }
        },
        "e435cdef9fcb4e5da921e7d8cf9f2b1e": {
          "model_module": "@jupyter-widgets/base",
          "model_name": "LayoutModel",
          "model_module_version": "1.2.0",
          "state": {
            "_model_module": "@jupyter-widgets/base",
            "_model_module_version": "1.2.0",
            "_model_name": "LayoutModel",
            "_view_count": null,
            "_view_module": "@jupyter-widgets/base",
            "_view_module_version": "1.2.0",
            "_view_name": "LayoutView",
            "align_content": null,
            "align_items": null,
            "align_self": null,
            "border": null,
            "bottom": null,
            "display": null,
            "flex": null,
            "flex_flow": null,
            "grid_area": null,
            "grid_auto_columns": null,
            "grid_auto_flow": null,
            "grid_auto_rows": null,
            "grid_column": null,
            "grid_gap": null,
            "grid_row": null,
            "grid_template_areas": null,
            "grid_template_columns": null,
            "grid_template_rows": null,
            "height": null,
            "justify_content": null,
            "justify_items": null,
            "left": null,
            "margin": null,
            "max_height": null,
            "max_width": null,
            "min_height": null,
            "min_width": null,
            "object_fit": null,
            "object_position": null,
            "order": null,
            "overflow": null,
            "overflow_x": null,
            "overflow_y": null,
            "padding": null,
            "right": null,
            "top": null,
            "visibility": null,
            "width": null
          }
        },
        "fda6c29a0c6c4072a9b248261490d99c": {
          "model_module": "@jupyter-widgets/controls",
          "model_name": "DescriptionStyleModel",
          "model_module_version": "1.5.0",
          "state": {
            "_model_module": "@jupyter-widgets/controls",
            "_model_module_version": "1.5.0",
            "_model_name": "DescriptionStyleModel",
            "_view_count": null,
            "_view_module": "@jupyter-widgets/base",
            "_view_module_version": "1.2.0",
            "_view_name": "StyleView",
            "description_width": ""
          }
        },
        "bc5582e0fb4b4177afa04859eaaec824": {
          "model_module": "@jupyter-widgets/base",
          "model_name": "LayoutModel",
          "model_module_version": "1.2.0",
          "state": {
            "_model_module": "@jupyter-widgets/base",
            "_model_module_version": "1.2.0",
            "_model_name": "LayoutModel",
            "_view_count": null,
            "_view_module": "@jupyter-widgets/base",
            "_view_module_version": "1.2.0",
            "_view_name": "LayoutView",
            "align_content": null,
            "align_items": null,
            "align_self": null,
            "border": null,
            "bottom": null,
            "display": null,
            "flex": null,
            "flex_flow": null,
            "grid_area": null,
            "grid_auto_columns": null,
            "grid_auto_flow": null,
            "grid_auto_rows": null,
            "grid_column": null,
            "grid_gap": null,
            "grid_row": null,
            "grid_template_areas": null,
            "grid_template_columns": null,
            "grid_template_rows": null,
            "height": null,
            "justify_content": null,
            "justify_items": null,
            "left": null,
            "margin": null,
            "max_height": null,
            "max_width": null,
            "min_height": null,
            "min_width": null,
            "object_fit": null,
            "object_position": null,
            "order": null,
            "overflow": null,
            "overflow_x": null,
            "overflow_y": null,
            "padding": null,
            "right": null,
            "top": null,
            "visibility": null,
            "width": null
          }
        },
        "23376c90bf694f22a1776fb5c6a0752f": {
          "model_module": "@jupyter-widgets/controls",
          "model_name": "ProgressStyleModel",
          "model_module_version": "1.5.0",
          "state": {
            "_model_module": "@jupyter-widgets/controls",
            "_model_module_version": "1.5.0",
            "_model_name": "ProgressStyleModel",
            "_view_count": null,
            "_view_module": "@jupyter-widgets/base",
            "_view_module_version": "1.2.0",
            "_view_name": "StyleView",
            "bar_color": null,
            "description_width": ""
          }
        },
        "7d33f1ac6a814e56926f87fb92182c11": {
          "model_module": "@jupyter-widgets/base",
          "model_name": "LayoutModel",
          "model_module_version": "1.2.0",
          "state": {
            "_model_module": "@jupyter-widgets/base",
            "_model_module_version": "1.2.0",
            "_model_name": "LayoutModel",
            "_view_count": null,
            "_view_module": "@jupyter-widgets/base",
            "_view_module_version": "1.2.0",
            "_view_name": "LayoutView",
            "align_content": null,
            "align_items": null,
            "align_self": null,
            "border": null,
            "bottom": null,
            "display": null,
            "flex": null,
            "flex_flow": null,
            "grid_area": null,
            "grid_auto_columns": null,
            "grid_auto_flow": null,
            "grid_auto_rows": null,
            "grid_column": null,
            "grid_gap": null,
            "grid_row": null,
            "grid_template_areas": null,
            "grid_template_columns": null,
            "grid_template_rows": null,
            "height": null,
            "justify_content": null,
            "justify_items": null,
            "left": null,
            "margin": null,
            "max_height": null,
            "max_width": null,
            "min_height": null,
            "min_width": null,
            "object_fit": null,
            "object_position": null,
            "order": null,
            "overflow": null,
            "overflow_x": null,
            "overflow_y": null,
            "padding": null,
            "right": null,
            "top": null,
            "visibility": null,
            "width": null
          }
        },
        "d2973399d17c48e78ad2cb50fe1fc6dc": {
          "model_module": "@jupyter-widgets/controls",
          "model_name": "DescriptionStyleModel",
          "model_module_version": "1.5.0",
          "state": {
            "_model_module": "@jupyter-widgets/controls",
            "_model_module_version": "1.5.0",
            "_model_name": "DescriptionStyleModel",
            "_view_count": null,
            "_view_module": "@jupyter-widgets/base",
            "_view_module_version": "1.2.0",
            "_view_name": "StyleView",
            "description_width": ""
          }
        }
      }
    }
  },
  "cells": [
    {
      "cell_type": "code",
      "execution_count": 12,
      "metadata": {
        "id": "bPlaUsPmMJW3",
        "colab": {
          "base_uri": "https://localhost:8080/",
          "height": 49,
          "referenced_widgets": [
            "7eccc170e2b74e2b862aad913b23f8e8",
            "a0b3d68c43a441a6b5a66e29e72f9b8e",
            "6ade94ec3c2e44c0a953bbc30e243dbe",
            "bbb2fb4da0b34805acced9811e2f037e",
            "236c7ca76c044acf951c74bd2e66a2be",
            "e435cdef9fcb4e5da921e7d8cf9f2b1e",
            "fda6c29a0c6c4072a9b248261490d99c",
            "bc5582e0fb4b4177afa04859eaaec824",
            "23376c90bf694f22a1776fb5c6a0752f",
            "7d33f1ac6a814e56926f87fb92182c11",
            "d2973399d17c48e78ad2cb50fe1fc6dc"
          ]
        },
        "cellView": "form",
        "outputId": "bc373e39-d113-4b65-c500-628aba6901d7"
      },
      "outputs": [
        {
          "output_type": "display_data",
          "data": {
            "text/plain": [
              "  0%|          | 0/100 [elapsed: 00:00 remaining: ?]"
            ],
            "application/vnd.jupyter.widget-view+json": {
              "version_major": 2,
              "version_minor": 0,
              "model_id": "7eccc170e2b74e2b862aad913b23f8e8"
            }
          },
          "metadata": {}
        }
      ],
      "source": [
        "#@title Install dependence\n",
        "\n",
        "from IPython.utils import io\n",
        "import os\n",
        "import subprocess\n",
        "import tqdm.notebook\n",
        "\n",
        "TQDM_BAR_FORMAT = '{l_bar}{bar}| {n_fmt}/{total_fmt} [elapsed: {elapsed} remaining: {remaining}]'\n",
        "\n",
        "try:\n",
        "  with tqdm.notebook.tqdm(total=100, bar_format=TQDM_BAR_FORMAT) as pbar:\n",
        "    with io.capture_output() as captured:\n",
        "      # Uninstall default Colab version of TF.\n",
        "      %shell pip uninstall -y tensorflow\n",
        "      # install directly from github\n",
        "      %shell rm -rf ./deepmind-research\n",
        "      pbar.update(1)\n",
        "      %shell git clone https://github.com/deepmind/deepmind-research.git\n",
        "      pbar.update(60)\n",
        "      %shell cd deepmind-research/density_functional_approximation_dm21 && pip install .\n",
        "      pbar.update(39)\n",
        "\n",
        "except subprocess.CalledProcessError:\n",
        "  print(captured)\n",
        "  raise"
      ]
    },
    {
      "cell_type": "code",
      "source": [
        "#@title import modules\n",
        "import density_functional_approximation_dm21 as dm21\n",
        "from pyscf import gto\n",
        "from pyscf import dft\n",
        "from timeit import default_timer as timer"
      ],
      "metadata": {
        "id": "eH3bHSUBRYau"
      },
      "execution_count": 15,
      "outputs": []
    },
    {
      "cell_type": "code",
      "source": [
        "#@title Atomization energy of CH4\n",
        "#@markdown build molecules\n",
        "\n",
        "start = timer()\n",
        "# Create the molecule of interest and select the basis set.\n",
        "methane = gto.Mole()\n",
        "methane.atom = \"\"\"H 0.000000000000 0.000000000000 0.000000000000\n",
        "                  C 0.000000000000 0.000000000000 1.087900000000\n",
        "                  H 1.025681956337 0.000000000000 1.450533333333\n",
        "                  H -0.512840978169 0.888266630391 1.450533333333\n",
        "                  H -0.512840978169 -0.888266630391 1.450533333333\"\"\"\n",
        "methane.basis = 'def2-qzvp'\n",
        "# methane.verbose = 4\n",
        "methane.build()\n",
        "\n",
        "carbon = gto.Mole()\n",
        "carbon.atom = 'C 0.0 0.0 0.0'\n",
        "carbon.basis = 'def2-qzvp'\n",
        "carbon.spin = 2\n",
        "# carbon.verbose = 4\n",
        "carbon.build()\n",
        "\n",
        "hydrogen = gto.Mole()\n",
        "hydrogen.atom = 'H 0.0 0.0 0.0'\n",
        "hydrogen.basis = 'def2-qzvp'\n",
        "hydrogen.spin = 1\n",
        "# hydrogen.verbose = 4\n",
        "hydrogen.build()\n",
        "\n",
        "cp0 = timer()\n",
        "print(f'Building Molecules: {cp0 - start:.2f}s')"
      ],
      "metadata": {
        "colab": {
          "base_uri": "https://localhost:8080/"
        },
        "cellView": "form",
        "id": "2Ef7DiK_SOXG",
        "outputId": "8f493f0a-6b43-42c8-a34a-8a9fc5beec57"
      },
      "execution_count": 21,
      "outputs": [
        {
          "output_type": "stream",
          "name": "stdout",
          "text": [
            "Building Molecules: 0.57s\n"
          ]
        }
      ]
    },
    {
      "cell_type": "code",
      "source": [
        "#@title DFT with DM21\n",
        "#@markdown Running the SCF calculation with B3LYP initial guess and than DM21 for the energy\n",
        "\n",
        "cp1 = timer()\n",
        "energies = []\n",
        "loop_timers = []\n",
        "for mol in [methane, carbon, hydrogen]:\n",
        "  # Create a DFT solver and insert the DM21 functional into the solver.\n",
        "  if mol.spin == 0:\n",
        "    mf = dft.RKS(mol)\n",
        "  else:\n",
        "    mf = dft.UKS(mol)\n",
        "  # It will make SCF faster to start close to the solution with a cheaper\n",
        "  # functional.\n",
        "  mf.xc = 'B3LYP'\n",
        "  mf.run()\n",
        "  dm0 = mf.make_rdm1()\n",
        "  cp_b3lyp = timer()\n",
        "\n",
        "  mf._numint = dm21.NeuralNumInt(dm21.Functional.DM21)\n",
        "  # It's wise to relax convergence tolerances.\n",
        "  mf.conv_tol = 1E-6\n",
        "  mf.conv_tol_grad = 1E-3\n",
        "  # Run the DFT calculation.\n",
        "  energy = mf.kernel(dm0=dm0)\n",
        "  energies.append(energy)\n",
        "  cp_dm21 = timer()\n",
        "  loop_timers.append((cp_b3lyp, cp_dm21))\n",
        "end1 = timer()\n",
        "print({'CH4': energies[0], 'C': energies[1], 'H': energies[2]})\n",
        "print(f'atomization energy = {(4*energies[2]+energies[1]-energies[0])*627.51}')\n",
        "print(\n",
        "f'''\n",
        "CH4:\n",
        "Run B3LYP: {loop_timers[0][0] - cp1:.2f}s\n",
        "Run DM21: {loop_timers[0][1] - loop_timers[0][0]:.2f}s\n",
        "C:\n",
        "Run B3LYP: {loop_timers[1][0] - loop_timers[0][1]:.2f}s\n",
        "Run DM21: {loop_timers[1][1] - loop_timers[1][0]:.2f}s\n",
        "H:\n",
        "Run B3LYP: {loop_timers[2][0] - loop_timers[1][1]:.2f}s\n",
        "Run DM21: {loop_timers[2][1] - loop_timers[2][0]:.2f}s\n",
        "\n",
        "Total: {end1 - cp1:.2f}s\n",
        "''')"
      ],
      "metadata": {
        "colab": {
          "base_uri": "https://localhost:8080/"
        },
        "cellView": "form",
        "id": "fRypjI4LaECE",
        "outputId": "491801e5-9580-464f-e3f4-6f5225d79e8c"
      },
      "execution_count": 31,
      "outputs": [
        {
          "output_type": "stream",
          "name": "stdout",
          "text": [
            "converged SCF energy = -40.5063134871814\n",
            "converged SCF energy = -40.5178538431857\n",
            "converged SCF energy = -37.8402038185573  <S^2> = 2.0037163  2S+1 = 3.0024765\n",
            "converged SCF energy = -37.8454094823897  <S^2> = 2.0039033  2S+1 = 3.0026011\n",
            "converged SCF energy = -0.499017789122656  <S^2> = 0.75  2S+1 = 2\n",
            "converged SCF energy = -0.50115339206198  <S^2> = 0.75  2S+1 = 2\n",
            "{'CH4': -40.51785384318569, 'C': -37.84540948238972, 'H': -0.5011533920619802}\n",
            "atomization energy = 419.0705006318284\n",
            "\n",
            "CH4:\n",
            "Run B3LYP: 39.64s\n",
            "Run DM21: 720.45s\n",
            "C:\n",
            "Run B3LYP: 2.36s\n",
            "Run DM21: 52.73s\n",
            "H:\n",
            "Run B3LYP: 2.26s\n",
            "Run DM21: 28.47s\n",
            "\n",
            "Total: 845.92s\n",
            "\n"
          ]
        }
      ]
    },
    {
      "cell_type": "code",
      "source": [
        "#@title Comparing with B3LYP\n",
        "#@markdown Running the SCF calculation with B3LYP only\n",
        "\n",
        "cp2 = timer()\n",
        "loop_timers = []\n",
        "energies = []\n",
        "for mol in [methane, carbon, hydrogen]:\n",
        "  if mol.spin == 0:\n",
        "    mf = dft.RKS(mol)\n",
        "  else:\n",
        "    mf = dft.UKS(mol)\n",
        "  mf.xc = 'B3LYP'\n",
        "  mf.conv_tol = 1E-6\n",
        "  mf.conv_tol_grad = 1E-3\n",
        "  energy = mf.kernel()\n",
        "  energies.append(energy)\n",
        "  loop_timers.append(timer())\n",
        "\n",
        "end2 = timer()\n",
        "print({'CH4': energies[0], 'C': energies[1], 'H': energies[2]})\n",
        "print(f'atomization energy = {(4*energies[2]+energies[1]-energies[0])*627.51}')\n",
        "print(\n",
        "f'''\n",
        "CH4:\n",
        "Run B3LYP: {loop_timers[0] - cp2:.2f}s\n",
        "C:\n",
        "Run B3LYP: {loop_timers[1] - loop_timers[0]:.2f}s\n",
        "H:\n",
        "Run B3LYP: {loop_timers[2] - loop_timers[1]:.2f}s\n",
        "\n",
        "Total: {end2 - cp2:.2f}s\n",
        "''')"
      ],
      "metadata": {
        "colab": {
          "base_uri": "https://localhost:8080/"
        },
        "cellView": "form",
        "id": "M1Nkqt0xY9zu",
        "outputId": "011b4dd2-29fa-4f2f-bd65-d7fc221a77ed"
      },
      "execution_count": 30,
      "outputs": [
        {
          "output_type": "stream",
          "name": "stdout",
          "text": [
            "converged SCF energy = -40.5063134871793\n",
            "converged SCF energy = -37.8402038274101  <S^2> = 2.0037163  2S+1 = 3.0024765\n",
            "converged SCF energy = -0.499017789122587  <S^2> = 0.75  2S+1 = 2\n",
            "{'CH4': -40.506313487179305, 'C': -37.840203827410136, 'H': -0.49901778912258676}\n",
            "atomization energy = 420.4558611924953\n",
            "\n",
            "CH4:\n",
            "Run B3LYP: 36.11s\n",
            "C:\n",
            "Run B3LYP: 1.78s\n",
            "H:\n",
            "Run B3LYP: 0.55s\n",
            "\n",
            "Total: 38.45s\n",
            "\n"
          ]
        }
      ]
    },
    {
      "cell_type": "code",
      "source": [
        "#@title Comparing with wB97X-D\n",
        "#@markdown Running the SCF calculation with B3LYP only\n",
        "\n",
        "cp2 = timer()\n",
        "loop_timers = []\n",
        "energies = []\n",
        "for mol in [methane, carbon, hydrogen]:\n",
        "  if mol.spin == 0:\n",
        "    mf = dft.RKS(mol)\n",
        "  else:\n",
        "    mf = dft.UKS(mol)\n",
        "  mf.xc = 'wB97XD'\n",
        "  mf.conv_tol = 1E-6\n",
        "  mf.conv_tol_grad = 1E-3\n",
        "  energy = mf.kernel()\n",
        "  energies.append(energy)\n",
        "  loop_timers.append(timer())\n",
        "\n",
        "end2 = timer()\n",
        "print({'CH4': energies[0], 'C': energies[1], 'H': energies[2]})\n",
        "print(f'atomization energy = {(4*energies[2]+energies[1]-energies[0])*627.51}')\n",
        "print(\n",
        "f'''\n",
        "CH4:\n",
        "Run wB97X-D: {loop_timers[0] - cp2:.2f}s\n",
        "C:\n",
        "Run wB97X-D: {loop_timers[1] - loop_timers[0]:.2f}s\n",
        "H:\n",
        "Run wB97X-D: {loop_timers[2] - loop_timers[1]:.2f}s\n",
        "\n",
        "Total: {end2 - cp2:.2f}s\n",
        "''')"
      ],
      "metadata": {
        "colab": {
          "base_uri": "https://localhost:8080/"
        },
        "cellView": "form",
        "id": "5sd6nBXxgNG3",
        "outputId": "5f655629-61c5-414e-b019-1e5a7edaa99b"
      },
      "execution_count": 29,
      "outputs": [
        {
          "output_type": "stream",
          "name": "stdout",
          "text": [
            "converged SCF energy = -40.5234209614309\n",
            "converged SCF energy = -37.8443082929958  <S^2> = 2.0052457  2S+1 = 3.0034951\n",
            "converged SCF energy = -0.50287500652346  <S^2> = 0.75  2S+1 = 2\n",
            "{'CH4': -40.52342096143088, 'C': -37.844308292995755, 'H': -0.5028750065234602}\n",
            "atomization energy = 418.9336091955782\n",
            "\n",
            "CH4:\n",
            "Run wB97X-D: 63.56s\n",
            "C:\n",
            "Run wB97X-D: 2.53s\n",
            "H:\n",
            "Run wB97X-D: 0.72s\n",
            "\n",
            "Total: 66.82s\n",
            "\n"
          ]
        }
      ]
    }
  ]
}